{
 "cells": [
  {
   "cell_type": "code",
   "execution_count": 37,
   "metadata": {},
   "outputs": [
    {
     "name": "stdout",
     "output_type": "stream",
     "text": [
      "[5.1 3.5 1.4 0.2]\n"
     ]
    }
   ],
   "source": [
    "from sklearn.datasets import load_iris\n",
    "import matplotlib.pyplot as plt\n",
    "import pandas as pd\n",
    "# Irisデータセットを読み込む\n",
    "iris = load_iris()\n",
    "data = iris.data\n",
    "# 1, 3列目を抽出\n",
    "X = data[:100, [0, 2]]\n",
    "\n",
    "iris['feature_names']\n",
    "print(data[0])"
   ]
  },
  {
   "cell_type": "code",
   "execution_count": 38,
   "metadata": {},
   "outputs": [
    {
     "data": {
      "text/html": [
       "<div>\n",
       "<style scoped>\n",
       "    .dataframe tbody tr th:only-of-type {\n",
       "        vertical-align: middle;\n",
       "    }\n",
       "\n",
       "    .dataframe tbody tr th {\n",
       "        vertical-align: top;\n",
       "    }\n",
       "\n",
       "    .dataframe thead th {\n",
       "        text-align: right;\n",
       "    }\n",
       "</style>\n",
       "<table border=\"1\" class=\"dataframe\">\n",
       "  <thead>\n",
       "    <tr style=\"text-align: right;\">\n",
       "      <th></th>\n",
       "      <th>0</th>\n",
       "      <th>1</th>\n",
       "    </tr>\n",
       "  </thead>\n",
       "  <tbody>\n",
       "    <tr>\n",
       "      <th>0</th>\n",
       "      <td>5.1</td>\n",
       "      <td>1.4</td>\n",
       "    </tr>\n",
       "    <tr>\n",
       "      <th>1</th>\n",
       "      <td>4.9</td>\n",
       "      <td>1.4</td>\n",
       "    </tr>\n",
       "    <tr>\n",
       "      <th>2</th>\n",
       "      <td>4.7</td>\n",
       "      <td>1.3</td>\n",
       "    </tr>\n",
       "    <tr>\n",
       "      <th>3</th>\n",
       "      <td>4.6</td>\n",
       "      <td>1.5</td>\n",
       "    </tr>\n",
       "    <tr>\n",
       "      <th>4</th>\n",
       "      <td>5.0</td>\n",
       "      <td>1.4</td>\n",
       "    </tr>\n",
       "    <tr>\n",
       "      <th>...</th>\n",
       "      <td>...</td>\n",
       "      <td>...</td>\n",
       "    </tr>\n",
       "    <tr>\n",
       "      <th>95</th>\n",
       "      <td>5.7</td>\n",
       "      <td>4.2</td>\n",
       "    </tr>\n",
       "    <tr>\n",
       "      <th>96</th>\n",
       "      <td>5.7</td>\n",
       "      <td>4.2</td>\n",
       "    </tr>\n",
       "    <tr>\n",
       "      <th>97</th>\n",
       "      <td>6.2</td>\n",
       "      <td>4.3</td>\n",
       "    </tr>\n",
       "    <tr>\n",
       "      <th>98</th>\n",
       "      <td>5.1</td>\n",
       "      <td>3.0</td>\n",
       "    </tr>\n",
       "    <tr>\n",
       "      <th>99</th>\n",
       "      <td>5.7</td>\n",
       "      <td>4.1</td>\n",
       "    </tr>\n",
       "  </tbody>\n",
       "</table>\n",
       "<p>100 rows × 2 columns</p>\n",
       "</div>"
      ],
      "text/plain": [
       "      0    1\n",
       "0   5.1  1.4\n",
       "1   4.9  1.4\n",
       "2   4.7  1.3\n",
       "3   4.6  1.5\n",
       "4   5.0  1.4\n",
       "..  ...  ...\n",
       "95  5.7  4.2\n",
       "96  5.7  4.2\n",
       "97  6.2  4.3\n",
       "98  5.1  3.0\n",
       "99  5.7  4.1\n",
       "\n",
       "[100 rows x 2 columns]"
      ]
     },
     "execution_count": 38,
     "metadata": {},
     "output_type": "execute_result"
    }
   ],
   "source": [
    "df=pd.DataFrame(X)\n",
    "df\n"
   ]
  },
  {
   "cell_type": "code",
   "execution_count": 39,
   "metadata": {},
   "outputs": [],
   "source": [
    "from sklearn.cluster import KMeans\n",
    "\n",
    "# クラスタの数を3とするKMeansのインスタンスを生成\n",
    "km = KMeans(n_clusters=3, init='random', n_init=10, random_state=1)\n",
    "# KMeansを実行\n",
    "y_km = km.fit_predict(X)\n",
    "\n",
    "\n",
    "# n_clusters\tクラスタ数。(デフォルト値: 8)\n",
    "# max_iter\t繰り返し回数の最大値。 (デフォルト値: 300)\n",
    "# n_init\t初期値選択において、異なる乱数のシードで初期の重心を選ぶ処理の実行回数。 (デフォルト値: 10)\n",
    "# init\t初期化の方法。’k-means++”, ‘random’ もしくは ndarray を指定。 (デフォルト値: ‘k-means++’)\n",
    "# tol\t収束判定に用いる許容可能誤差。 (デフォルト値: 0.0001)\n",
    "# precompute_distances\t距離 (データのばらつき具合) を事前に計算するか。 ‘auto’, True, False から指定。 (デフォルト値: ‘auto’)\n",
    "# verbose\t1 を指定すると、詳細な分析結果を表示。 (デフォルト値: 0)\n",
    "# random_state\t乱数のシードを固定する場合に指定。数値もしくは integer or numpy.RandomState で指定。 (デフォルト値: None)\n",
    "# copy_x\t距離を事前に計算する場合、メモリ内でデータを複製してから実行するかどうか。 (デフォルト値: True)\n",
    "# n_jobs\t初期化を並列処理する場合の多重度。-1 を指定するとすべての CPU を使用。 (デフォルト値: 1)"
   ]
  },
  {
   "cell_type": "code",
   "execution_count": 42,
   "metadata": {},
   "outputs": [
    {
     "data": {
      "image/png": "[encoded data removed]",
      "text/plain": [
       "<Figure size 432x288 with 1 Axes>"
      ]
     },
     "metadata": {
      "needs_background": "light"
     },
     "output_type": "display_data"
    }
   ],
   "source": [
    "import numpy as np\n",
    "fig = plt.figure()\n",
    "ax = fig.add_subplot(1,1,1)\n",
    "#fig, ax = plt.subplots()でも可（むしろそっちの方がいい？）\n",
    "\n",
    "# 散布図(クラスタ1)\n",
    "ax.scatter(X[y_km == 0, 0], X[y_km == 0, 1], s=50,\n",
    "           edgecolor='black', marker='s', label='cluster 1')\n",
    "# # クラスタ中心(クラスタ1)\n",
    "# ax.plot(np.mean(X[y_km == 0, 0]), np.mean(X[y_km == 0, 1]),\n",
    "#         marker='x', markersize=10, color='red')\n",
    "\n",
    "\n",
    "#  散布図(クラス２)\n",
    "ax.scatter(X[y_km == 1, 0], X[y_km == 1, 1], s=50,\n",
    "           edgecolor='black', marker='o', label='cluster 2')\n",
    "# # クラスタ中心(クラスタ2)\n",
    "# ax.plot(np.mean(X[y_km == 1, 0]), np.mean(X[y_km == 1, 1]),\n",
    "#         marker='x', markersize=10, color='red')\n",
    "\n",
    "\n",
    "#  散布図(クラス3)\n",
    "ax.scatter(X[y_km == 2, 0], X[y_km == 2, 1], s=50,\n",
    "           edgecolor='black', marker='v', label='cluster 3')\n",
    "# # クラスタ中心(クラスタ3)\n",
    "# ax.plot(np.mean(X[y_km ==2, 0]), np.mean(X[y_km == 2, 1]),\n",
    "#         marker='x', markersize=10, color='red')\n",
    "\n",
    "\n",
    "ax.set_xlabel('Sepal Width')\n",
    "ax.set_ylabel('Petal Width')\n",
    "#軸ラベルの表示\n",
    "ax.legend()\n",
    "#凡例の表示\n",
    "\n",
    "plt.savefig(\"Plot generated using Matplotlib.png\")\n",
    "\n",
    "plt.show()\n",
    "#散布図の表示\n",
    "\n"
   ]
  },
  {
   "cell_type": "code",
   "execution_count": 33,
   "metadata": {},
   "outputs": [
    {
     "data": {
      "text/plain": [
       "<Figure size 432x288 with 0 Axes>"
      ]
     },
     "metadata": {},
     "output_type": "display_data"
    }
   ],
   "source": []
  },
  {
   "cell_type": "code",
   "execution_count": null,
   "metadata": {},
   "outputs": [],
   "source": []
  }
 ],
 "metadata": {
  "kernelspec": {
   "display_name": "Python 3",
   "language": "python",
   "name": "python3"
  },
  "language_info": {
   "codemirror_mode": {
    "name": "ipython",
    "version": 3
   },
   "file_extension": ".py",
   "mimetype": "text/x-python",
   "name": "python",
   "nbconvert_exporter": "python",
   "pygments_lexer": "ipython3",
   "version": "3.8.5"
  }
 },
 "nbformat": 4,
 "nbformat_minor": 4
}
